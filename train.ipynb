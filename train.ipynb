{
 "cells": [
  {
   "cell_type": "code",
   "execution_count": 1,
   "metadata": {},
   "outputs": [],
   "source": [
    "# import os\n",
    "# os.environ['CUDA_LAUNCH_BLOCKING'] = '1'\n",
    "import torch\n",
    "import torch.nn as nn\n",
    "from torch.utils.data import DataLoader,random_split\n",
    "from dataset import NBA_Dataset\n",
    "from tqdm import tqdm\n",
    "import numpy as np\n",
    "\n",
    "def same_seeds(seed):\n",
    "    torch.manual_seed(seed)\n",
    "    if torch.cuda.is_available():\n",
    "        torch.cuda.manual_seed(seed)\n",
    "        torch.cuda.manual_seed_all(seed)  \n",
    "    np.random.seed(seed)  \n",
    "    torch.backends.cudnn.benchmark = False\n",
    "    torch.backends.cudnn.deterministic = True"
   ]
  },
  {
   "cell_type": "code",
   "execution_count": 45,
   "metadata": {},
   "outputs": [],
   "source": [
    "window = 7\n",
    "workers = 0\n",
    "EPOCH = 100\n",
    "BATCH_SIZE = 200\n",
    "LR = 0.001"
   ]
  },
  {
   "cell_type": "code",
   "execution_count": 21,
   "metadata": {},
   "outputs": [
    {
     "name": "stderr",
     "output_type": "stream",
     "text": [
      "100%|██████████| 30/30 [00:12<00:00,  2.40it/s]\n",
      "100%|██████████| 30/30 [00:04<00:00,  6.55it/s]\n"
     ]
    }
   ],
   "source": [
    "train_dataset = NBA_Dataset(\"train_data\", \"column_mean_and_std.csv\", window=window)\n",
    "val_dataset = NBA_Dataset(\"val_data\", \"column_mean_and_std.csv\", window=window)\n",
    "# nba_dataset = NBA_Dataset(\"train_data\", \"column_mean_and_std.csv\", window=window)\n"
   ]
  },
  {
   "cell_type": "code",
   "execution_count": 48,
   "metadata": {},
   "outputs": [],
   "source": [
    "class Net(nn.Module):\n",
    "    def __init__(self,input_size):\n",
    "        super(Net, self).__init__()\n",
    "        drop = 0.5\n",
    "        self.inp = nn.Sequential(\n",
    "            nn.Linear(input_size,128),\n",
    "            nn.Dropout(drop),\n",
    "            nn.BatchNorm1d(128),\n",
    "            nn.ReLU(),\n",
    "        )\n",
    "        self.L1 = nn.Sequential(\n",
    "            nn.Linear(128,64),\n",
    "            nn.Dropout(drop),\n",
    "            nn.BatchNorm1d(64),\n",
    "            nn.ReLU(),\n",
    "            nn.Linear(64,128),\n",
    "            nn.Dropout(drop),\n",
    "            nn.BatchNorm1d(128),\n",
    "        )\n",
    "        self.out = nn.Sequential(\n",
    "            nn.BatchNorm1d(128),\n",
    "            nn.ReLU(),\n",
    "            nn.Linear(128, 1),\n",
    "            nn.Sigmoid(),\n",
    "        )\n",
    "\n",
    "    def forward(self, x):\n",
    "        x1 = self.inp(x)\n",
    "        x = self.L1(x1)\n",
    "        x = self.out(x+x1)\n",
    "        return x"
   ]
  },
  {
   "cell_type": "code",
   "execution_count": null,
   "metadata": {},
   "outputs": [
    {
     "name": "stdout",
     "output_type": "stream",
     "text": [
      "資料集大小: 9332 3340\n",
      "輸入大小: 465\n",
      "模型大小: 38721\n",
      "Epoch: 0, Train Loss: 0.647366, Train Acc: 0.622696, Val Loss: 0.663352, Val Acc: 0.596407\n",
      "save model with acc: 0.5964071856287425\n",
      "save model with loss: 0.6633522510528564\n",
      "Epoch: 1, Train Loss: 0.648687, Train Acc: 0.627733, Val Loss: 0.663425, Val Acc: 0.594910\n",
      "Epoch: 2, Train Loss: 0.645479, Train Acc: 0.623125, Val Loss: 0.663253, Val Acc: 0.600599\n",
      "save model with acc: 0.6005988023952096\n",
      "save model with loss: 0.6632525465067696\n",
      "Epoch: 3, Train Loss: 0.645966, Train Acc: 0.623768, Val Loss: 0.663461, Val Acc: 0.597305\n",
      "Epoch: 4, Train Loss: 0.643606, Train Acc: 0.629018, Val Loss: 0.663477, Val Acc: 0.596407\n",
      "Epoch: 5, Train Loss: 0.648845, Train Acc: 0.621517, Val Loss: 0.663461, Val Acc: 0.596407\n",
      "Epoch: 6, Train Loss: 0.646263, Train Acc: 0.625161, Val Loss: 0.663439, Val Acc: 0.596407\n",
      "Epoch: 7, Train Loss: 0.646718, Train Acc: 0.623875, Val Loss: 0.663673, Val Acc: 0.592814\n",
      "Epoch: 8, Train Loss: 0.644141, Train Acc: 0.626982, Val Loss: 0.663363, Val Acc: 0.596707\n",
      "Epoch: 9, Train Loss: 0.644105, Train Acc: 0.622589, Val Loss: 0.663490, Val Acc: 0.595210\n",
      "Epoch: 10, Train Loss: 0.644606, Train Acc: 0.622482, Val Loss: 0.663245, Val Acc: 0.595210\n",
      "save model with loss: 0.6632446155828589\n",
      "Epoch: 11, Train Loss: 0.640454, Train Acc: 0.635126, Val Loss: 0.663253, Val Acc: 0.597006\n",
      "Epoch: 12, Train Loss: 0.644464, Train Acc: 0.627518, Val Loss: 0.663156, Val Acc: 0.597605\n",
      "save model with loss: 0.6631559624391443\n",
      "Epoch: 13, Train Loss: 0.641434, Train Acc: 0.634698, Val Loss: 0.663585, Val Acc: 0.595808\n",
      "Epoch: 14, Train Loss: 0.646940, Train Acc: 0.622267, Val Loss: 0.663498, Val Acc: 0.595210\n",
      "Epoch: 15, Train Loss: 0.640281, Train Acc: 0.630090, Val Loss: 0.663652, Val Acc: 0.594611\n",
      "Epoch: 16, Train Loss: 0.645774, Train Acc: 0.624089, Val Loss: 0.663701, Val Acc: 0.596707\n",
      "Epoch: 17, Train Loss: 0.642237, Train Acc: 0.627733, Val Loss: 0.663576, Val Acc: 0.594611\n",
      "Epoch: 18, Train Loss: 0.644986, Train Acc: 0.627625, Val Loss: 0.663603, Val Acc: 0.593413\n",
      "Epoch: 19, Train Loss: 0.641958, Train Acc: 0.626447, Val Loss: 0.663464, Val Acc: 0.595210\n"
     ]
    },
    {
     "ename": "KeyboardInterrupt",
     "evalue": "",
     "output_type": "error",
     "traceback": [
      "\u001b[1;31m---------------------------------------------------------------------------\u001b[0m",
      "\u001b[1;31mKeyboardInterrupt\u001b[0m                         Traceback (most recent call last)",
      "Cell \u001b[1;32mIn[47], line 28\u001b[0m\n\u001b[0;32m     25\u001b[0m val_acc \u001b[38;5;241m=\u001b[39m \u001b[38;5;241m0\u001b[39m\n\u001b[0;32m     27\u001b[0m model\u001b[38;5;241m.\u001b[39mtrain()\n\u001b[1;32m---> 28\u001b[0m \u001b[38;5;28;01mfor\u001b[39;00m data, label \u001b[38;5;129;01min\u001b[39;00m train_loader:\n\u001b[0;32m     29\u001b[0m     data, label \u001b[38;5;241m=\u001b[39m data\u001b[38;5;241m.\u001b[39mto(device), label\u001b[38;5;241m.\u001b[39mto(device)\n\u001b[0;32m     30\u001b[0m     output \u001b[38;5;241m=\u001b[39m model(data)\n",
      "File \u001b[1;32m~\\AppData\\Roaming\\Python\\Python310\\site-packages\\torch\\utils\\data\\dataloader.py:630\u001b[0m, in \u001b[0;36m_BaseDataLoaderIter.__next__\u001b[1;34m(self)\u001b[0m\n\u001b[0;32m    627\u001b[0m \u001b[38;5;28;01mif\u001b[39;00m \u001b[38;5;28mself\u001b[39m\u001b[38;5;241m.\u001b[39m_sampler_iter \u001b[38;5;129;01mis\u001b[39;00m \u001b[38;5;28;01mNone\u001b[39;00m:\n\u001b[0;32m    628\u001b[0m     \u001b[38;5;66;03m# TODO(https://github.com/pytorch/pytorch/issues/76750)\u001b[39;00m\n\u001b[0;32m    629\u001b[0m     \u001b[38;5;28mself\u001b[39m\u001b[38;5;241m.\u001b[39m_reset()  \u001b[38;5;66;03m# type: ignore[call-arg]\u001b[39;00m\n\u001b[1;32m--> 630\u001b[0m data \u001b[38;5;241m=\u001b[39m \u001b[38;5;28;43mself\u001b[39;49m\u001b[38;5;241;43m.\u001b[39;49m\u001b[43m_next_data\u001b[49m\u001b[43m(\u001b[49m\u001b[43m)\u001b[49m\n\u001b[0;32m    631\u001b[0m \u001b[38;5;28mself\u001b[39m\u001b[38;5;241m.\u001b[39m_num_yielded \u001b[38;5;241m+\u001b[39m\u001b[38;5;241m=\u001b[39m \u001b[38;5;241m1\u001b[39m\n\u001b[0;32m    632\u001b[0m \u001b[38;5;28;01mif\u001b[39;00m \u001b[38;5;28mself\u001b[39m\u001b[38;5;241m.\u001b[39m_dataset_kind \u001b[38;5;241m==\u001b[39m _DatasetKind\u001b[38;5;241m.\u001b[39mIterable \u001b[38;5;129;01mand\u001b[39;00m \\\n\u001b[0;32m    633\u001b[0m         \u001b[38;5;28mself\u001b[39m\u001b[38;5;241m.\u001b[39m_IterableDataset_len_called \u001b[38;5;129;01mis\u001b[39;00m \u001b[38;5;129;01mnot\u001b[39;00m \u001b[38;5;28;01mNone\u001b[39;00m \u001b[38;5;129;01mand\u001b[39;00m \\\n\u001b[0;32m    634\u001b[0m         \u001b[38;5;28mself\u001b[39m\u001b[38;5;241m.\u001b[39m_num_yielded \u001b[38;5;241m>\u001b[39m \u001b[38;5;28mself\u001b[39m\u001b[38;5;241m.\u001b[39m_IterableDataset_len_called:\n",
      "File \u001b[1;32m~\\AppData\\Roaming\\Python\\Python310\\site-packages\\torch\\utils\\data\\dataloader.py:673\u001b[0m, in \u001b[0;36m_SingleProcessDataLoaderIter._next_data\u001b[1;34m(self)\u001b[0m\n\u001b[0;32m    671\u001b[0m \u001b[38;5;28;01mdef\u001b[39;00m \u001b[38;5;21m_next_data\u001b[39m(\u001b[38;5;28mself\u001b[39m):\n\u001b[0;32m    672\u001b[0m     index \u001b[38;5;241m=\u001b[39m \u001b[38;5;28mself\u001b[39m\u001b[38;5;241m.\u001b[39m_next_index()  \u001b[38;5;66;03m# may raise StopIteration\u001b[39;00m\n\u001b[1;32m--> 673\u001b[0m     data \u001b[38;5;241m=\u001b[39m \u001b[38;5;28;43mself\u001b[39;49m\u001b[38;5;241;43m.\u001b[39;49m\u001b[43m_dataset_fetcher\u001b[49m\u001b[38;5;241;43m.\u001b[39;49m\u001b[43mfetch\u001b[49m\u001b[43m(\u001b[49m\u001b[43mindex\u001b[49m\u001b[43m)\u001b[49m  \u001b[38;5;66;03m# may raise StopIteration\u001b[39;00m\n\u001b[0;32m    674\u001b[0m     \u001b[38;5;28;01mif\u001b[39;00m \u001b[38;5;28mself\u001b[39m\u001b[38;5;241m.\u001b[39m_pin_memory:\n\u001b[0;32m    675\u001b[0m         data \u001b[38;5;241m=\u001b[39m _utils\u001b[38;5;241m.\u001b[39mpin_memory\u001b[38;5;241m.\u001b[39mpin_memory(data, \u001b[38;5;28mself\u001b[39m\u001b[38;5;241m.\u001b[39m_pin_memory_device)\n",
      "\u001b[1;31mKeyboardInterrupt\u001b[0m: "
     ]
    }
   ],
   "source": [
    "same_seeds(1)\n",
    "# train_dataset, val_dataset = random_split(nba_dataset, [0.8, 0.2])\n",
    "\n",
    "print(\"資料集大小:\", len(train_dataset), len(val_dataset))\n",
    "train_loader = DataLoader(train_dataset, batch_size=BATCH_SIZE, shuffle=True, num_workers=workers)\n",
    "val_loader = DataLoader(val_dataset, batch_size=BATCH_SIZE, shuffle=False, num_workers=workers)\n",
    "\n",
    "device = torch.device(\"cuda\" if torch.cuda.is_available() else \"cpu\")\n",
    "model = Net(train_dataset[0][0].shape[0]).to(device)\n",
    "# model.load_state_dict(torch.load(\"modelacc.pth\",weights_only=True))\n",
    "print(\"輸入大小:\", train_dataset[0][0].shape[0])\n",
    "print(\"模型大小:\", sum(p.numel() for p in model.parameters() if p.requires_grad))\n",
    "\n",
    "criterion = nn.BCELoss()\n",
    "\n",
    "optimizer = torch.optim.Adam(model.parameters(), lr=LR,weight_decay=8e-3)\n",
    "# optimizer = torch.optim.SGD(model.parameters(), lr=LR,weight_decay=5e-4,momentum=0.9)\n",
    "\n",
    "maxacc = 0\n",
    "minloss = 1000\n",
    "for epoch in range(EPOCH):\n",
    "    train_loss = 0\n",
    "    train_acc = 0\n",
    "    val_loss = 0\n",
    "    val_acc = 0\n",
    "\n",
    "    model.train()\n",
    "    for data, label in train_loader:\n",
    "        data, label = data.to(device), label.to(device)\n",
    "        output = model(data)\n",
    "        loss = criterion(output, label)\n",
    "        optimizer.zero_grad()\n",
    "        loss.backward()\n",
    "        nn.utils.clip_grad_norm_(model.parameters(), max_norm=10.0)\n",
    "        optimizer.step()\n",
    "        train_loss += loss.item()\n",
    "        train_acc += ((output > 0.5).eq(label > 0.5)).sum().item()\n",
    "\n",
    "\n",
    "    model.eval()\n",
    "    with torch.no_grad():\n",
    "        for data, label in val_loader:\n",
    "            data, label = data.to(device), label.to(device)\n",
    "            output = model(data)\n",
    "            loss = criterion(output, label)\n",
    "            val_loss += loss.item()\n",
    "            val_acc += ((output > 0.5).eq(label > 0.5)).sum().item()\n",
    "\n",
    "    print(f\"Epoch: {epoch}, Train Loss: {train_loss / len(train_loader):.6f}, Train Acc: {train_acc / len(train_dataset):.6f}, Val Loss: {val_loss / len(val_loader):.6f}, Val Acc: {val_acc / len(val_dataset):.6f}\")\n",
    "    if val_acc / len(val_dataset) > maxacc:\n",
    "        maxacc = val_acc / len(val_dataset)\n",
    "        print(\"save model with acc:\", maxacc)\n",
    "        torch.save(model.state_dict(), \"modelacc.pth\")\n",
    "    if val_loss / len(val_loader) < minloss:\n",
    "        minloss = val_loss / len(val_loader)\n",
    "        print(\"save model with loss:\", minloss)\n",
    "        torch.save(model.state_dict(), \"modelloss.pth\")\n"
   ]
  }
 ],
 "metadata": {
  "kernelspec": {
   "display_name": "base",
   "language": "python",
   "name": "python3"
  },
  "language_info": {
   "codemirror_mode": {
    "name": "ipython",
    "version": 3
   },
   "file_extension": ".py",
   "mimetype": "text/x-python",
   "name": "python",
   "nbconvert_exporter": "python",
   "pygments_lexer": "ipython3",
   "version": "3.10.9"
  }
 },
 "nbformat": 4,
 "nbformat_minor": 2
}
